{
 "cells": [
  {
   "cell_type": "markdown",
   "source": "## Read RGB",
   "metadata": {
    "tags": [],
    "cell_id": "00000-60c11731-9343-4d44-b155-2790fd46d0e1",
    "deepnote_cell_type": "markdown"
   }
  },
  {
   "cell_type": "code",
   "metadata": {
    "tags": [],
    "cell_id": "00000-fb0bce06-8970-4d30-8127-bad438e1e4ab",
    "deepnote_to_be_reexecuted": false,
    "source_hash": "e3f5d86a",
    "execution_start": 1623101970989,
    "execution_millis": 364,
    "deepnote_cell_type": "code"
   },
   "source": "from PIL import Image\nimport numpy as np\n\nimg  =  Image.open(\"pics/1.jpg\")\nimg_np =  np.asarray(img)",
   "execution_count": null,
   "outputs": []
  },
  {
   "cell_type": "code",
   "metadata": {
    "tags": [],
    "cell_id": "00001-7d01f982-e711-4e4a-a701-c082de00bd00",
    "deepnote_to_be_reexecuted": false,
    "source_hash": "ba99b6d0",
    "execution_start": 1623101986042,
    "execution_millis": 10,
    "deepnote_cell_type": "code"
   },
   "source": "img_np.shape",
   "execution_count": null,
   "outputs": [
    {
     "output_type": "execute_result",
     "execution_count": 3,
     "data": {
      "text/plain": "(3024, 4032, 3)"
     },
     "metadata": {}
    }
   ]
  },
  {
   "cell_type": "code",
   "metadata": {
    "tags": [],
    "cell_id": "00002-df7a704b-1826-4f45-bfb3-18493e5ce144",
    "deepnote_to_be_reexecuted": false,
    "source_hash": "633f5d5a",
    "execution_start": 1623102988680,
    "execution_millis": 101,
    "deepnote_cell_type": "code"
   },
   "source": "w, h = img.size\ncompress_rate = 0.05\nimg_resize = img.resize((500, 500))",
   "execution_count": null,
   "outputs": []
  },
  {
   "cell_type": "code",
   "metadata": {
    "tags": [],
    "cell_id": "00003-8e960cde-591c-44f6-8e18-f814bda538d5",
    "deepnote_to_be_reexecuted": false,
    "source_hash": "d9510a03",
    "execution_start": 1623103453895,
    "execution_millis": 7,
    "deepnote_cell_type": "code"
   },
   "source": "img_resize_np =  np.asarray(img_resize)\nimg_resize_np.shape",
   "execution_count": null,
   "outputs": [
    {
     "output_type": "execute_result",
     "execution_count": 15,
     "data": {
      "text/plain": "(500, 500, 3)"
     },
     "metadata": {}
    }
   ]
  },
  {
   "cell_type": "code",
   "metadata": {
    "tags": [],
    "cell_id": "00004-2b082cf4-5744-4e0a-9b04-ea729ac5e12d",
    "deepnote_to_be_reexecuted": false,
    "source_hash": "9217458d",
    "execution_start": 1623103500554,
    "execution_millis": 12,
    "deepnote_cell_type": "code"
   },
   "source": "img_np[0][0]",
   "execution_count": null,
   "outputs": [
    {
     "output_type": "execute_result",
     "execution_count": 18,
     "data": {
      "text/plain": "array([169, 193, 231], dtype=uint8)"
     },
     "metadata": {}
    }
   ]
  },
  {
   "cell_type": "code",
   "metadata": {
    "tags": [],
    "cell_id": "00005-8c9b0f55-90d1-4bd7-ba44-353ca41fa2e3",
    "deepnote_to_be_reexecuted": false,
    "source_hash": "8facaaf1",
    "execution_start": 1623103511891,
    "execution_millis": 7,
    "deepnote_cell_type": "code"
   },
   "source": "img_resize_np[0][0]",
   "execution_count": null,
   "outputs": [
    {
     "output_type": "execute_result",
     "execution_count": 19,
     "data": {
      "text/plain": "array([167, 191, 230], dtype=uint8)"
     },
     "metadata": {}
    }
   ]
  },
  {
   "cell_type": "markdown",
   "source": "## Get DMC info",
   "metadata": {
    "tags": [],
    "cell_id": "00007-f395a63d-b465-4217-bbed-0d96a34c7558",
    "deepnote_cell_type": "markdown"
   }
  },
  {
   "cell_type": "code",
   "metadata": {
    "tags": [],
    "cell_id": "00006-90ee05a0-9c2d-4858-93f6-4fe30c481f18",
    "deepnote_to_be_reexecuted": false,
    "source_hash": "a3283b53",
    "execution_start": 1623188871141,
    "execution_millis": 33,
    "deepnote_cell_type": "code"
   },
   "source": "import pandas as pd\nimport csv\nimport re\n\nwith open('DMC_RGB.csv','r') as csvfile:\n    reader = csv.reader(csvfile)\n    rows = [row for row in reader]",
   "execution_count": 2,
   "outputs": []
  },
  {
   "cell_type": "code",
   "metadata": {
    "tags": [],
    "cell_id": "00008-f8825446-b461-4214-b672-2dc48985a3a3",
    "deepnote_to_be_reexecuted": false,
    "source_hash": "a23dae39",
    "execution_start": 1623197877315,
    "execution_millis": 23,
    "deepnote_cell_type": "code"
   },
   "source": "pattern = re.compile(r\".*<td>(.*?)</td>\")\ndata_all = []\nfor line in rows:\n    content = ''.join(line)\n    if re.match(r\"(.*)<td>(.*?)</td>\", content):\n        data = re.search(pattern, content)\n        data_all.append(data.group(1))",
   "execution_count": 5,
   "outputs": []
  },
  {
   "cell_type": "code",
   "source": "floss = data_all[::7]\nname = data_all[1::7]\nRed = data_all[2::7]\nGreen = data_all[3::7]\nBlue = data_all[4::7]\nRGB_code = data_all[5::7]\nrow = data_all[6::7]",
   "metadata": {
    "tags": [],
    "cell_id": "00010-8607fa52-1df7-4087-a8e4-780ab82901dd",
    "deepnote_to_be_reexecuted": false,
    "source_hash": "bc817f7d",
    "execution_start": 1623198081750,
    "execution_millis": 2,
    "deepnote_cell_type": "code"
   },
   "outputs": [],
   "execution_count": 12
  },
  {
   "cell_type": "code",
   "source": "dmc_rgb = {\"floss\": floss,\\\n\"name\": name, \\\n\"Red\": Red, \\\n\"Green\": Green, \\\n\"Blue\": Blue, \\\n\"RGB_code\": RGB_code, \\\n\"row\": row}\ndmc_rgb = pd.DataFrame(dmc_rgb)",
   "metadata": {
    "tags": [],
    "cell_id": "00010-709bea4d-ac4e-4ffd-8347-34da983b47d0",
    "deepnote_to_be_reexecuted": false,
    "source_hash": "81f80edd",
    "execution_start": 1623198232153,
    "execution_millis": 8,
    "deepnote_cell_type": "code"
   },
   "outputs": [],
   "execution_count": 13
  },
  {
   "cell_type": "code",
   "source": "dmc_rgb.head(10)",
   "metadata": {
    "tags": [],
    "cell_id": "00010-0f25df3c-1aea-4be8-bde2-ee8a0402b8d5",
    "deepnote_to_be_reexecuted": false,
    "source_hash": "80338d0d",
    "execution_start": 1623198276863,
    "execution_millis": 42,
    "deepnote_cell_type": "code"
   },
   "outputs": [
    {
     "output_type": "execute_result",
     "execution_count": 17,
     "data": {
      "application/vnd.deepnote.dataframe.v2+json": {
       "row_count": 10,
       "column_count": 7,
       "columns": [
        {
         "name": "floss",
         "dtype": "object",
         "stats": {
          "unique_count": 10,
          "nan_count": 0,
          "categories": [
           {
            "name": "3713",
            "count": 1
           },
           {
            "name": "761",
            "count": 1
           },
           {
            "name": "8 others",
            "count": 8
           }
          ]
         }
        },
        {
         "name": "name",
         "dtype": "object",
         "stats": {
          "unique_count": 10,
          "nan_count": 0,
          "categories": [
           {
            "name": "Salmon Very Light",
            "count": 1
           },
           {
            "name": "Salmon Light",
            "count": 1
           },
           {
            "name": "8 others",
            "count": 8
           }
          ]
         }
        },
        {
         "name": "Red",
         "dtype": "object",
         "stats": {
          "unique_count": 9,
          "nan_count": 0,
          "categories": [
           {
            "name": "255",
            "count": 2
           },
           {
            "name": "245",
            "count": 1
           },
           {
            "name": "7 others",
            "count": 7
           }
          ]
         }
        },
        {
         "name": "Green",
         "dtype": "object",
         "stats": {
          "unique_count": 10,
          "nan_count": 0,
          "categories": [
           {
            "name": "226",
            "count": 1
           },
           {
            "name": "201",
            "count": 1
           },
           {
            "name": "8 others",
            "count": 8
           }
          ]
         }
        },
        {
         "name": "Blue",
         "dtype": "object",
         "stats": {
          "unique_count": 10,
          "nan_count": 0,
          "categories": [
           {
            "name": "226",
            "count": 1
           },
           {
            "name": "201",
            "count": 1
           },
           {
            "name": "8 others",
            "count": 8
           }
          ]
         }
        },
        {
         "name": "RGB_code",
         "dtype": "object",
         "stats": {
          "unique_count": 10,
          "nan_count": 0,
          "categories": [
           {
            "name": "FFE2E2",
            "count": 1
           },
           {
            "name": "FFC9C9",
            "count": 1
           },
           {
            "name": "8 others",
            "count": 8
           }
          ]
         }
        },
        {
         "name": "row",
         "dtype": "object",
         "stats": {
          "unique_count": 10,
          "nan_count": 0,
          "categories": [
           {
            "name": "row 01-01",
            "count": 1
           },
           {
            "name": "row 01-02",
            "count": 1
           },
           {
            "name": "8 others",
            "count": 8
           }
          ]
         }
        },
        {
         "name": "_deepnote_index_column",
         "dtype": "int64"
        }
       ],
       "rows_top": [
        {
         "floss": "3713",
         "name": "Salmon Very Light",
         "Red": "255",
         "Green": "226",
         "Blue": "226",
         "RGB_code": "FFE2E2",
         "row": "row 01-01",
         "_deepnote_index_column": 0
        },
        {
         "floss": "761",
         "name": "Salmon Light",
         "Red": "255",
         "Green": "201",
         "Blue": "201",
         "RGB_code": "FFC9C9",
         "row": "row 01-02",
         "_deepnote_index_column": 1
        },
        {
         "floss": "760",
         "name": "Salmon",
         "Red": "245",
         "Green": "173",
         "Blue": "173",
         "RGB_code": "F5ADAD",
         "row": "row 01-03",
         "_deepnote_index_column": 2
        },
        {
         "floss": "3712",
         "name": "Salmon Medium",
         "Red": "241",
         "Green": "135",
         "Blue": "135",
         "RGB_code": "F18787",
         "row": "row 01-04",
         "_deepnote_index_column": 3
        },
        {
         "floss": "3328",
         "name": "Salmon Dark",
         "Red": "227",
         "Green": "109",
         "Blue": "109",
         "RGB_code": "E36D6D",
         "row": "row 01-05",
         "_deepnote_index_column": 4
        },
        {
         "floss": "347",
         "name": "Salmon Very Dark",
         "Red": "191",
         "Green": "45",
         "Blue": "45",
         "RGB_code": "BF2D2D",
         "row": "row 01-06",
         "_deepnote_index_column": 5
        },
        {
         "floss": "353",
         "name": "Peach",
         "Red": "254",
         "Green": "215",
         "Blue": "204",
         "RGB_code": "FED7CC",
         "row": "row 01-07",
         "_deepnote_index_column": 6
        },
        {
         "floss": "352",
         "name": "Coral Light",
         "Red": "253",
         "Green": "156",
         "Blue": "151",
         "RGB_code": "FD9C97",
         "row": "row 01-08",
         "_deepnote_index_column": 7
        },
        {
         "floss": "351",
         "name": "Coral",
         "Red": "233",
         "Green": "106",
         "Blue": "103",
         "RGB_code": "E96A67",
         "row": "row 01-09",
         "_deepnote_index_column": 8
        },
        {
         "floss": "350",
         "name": "Coral Medium",
         "Red": "224",
         "Green": "72",
         "Blue": "72",
         "RGB_code": "E04848",
         "row": "row 01-10",
         "_deepnote_index_column": 9
        }
       ],
       "rows_bottom": null
      },
      "text/plain": "  floss               name  Red Green Blue RGB_code        row\n0  3713  Salmon Very Light  255   226  226   FFE2E2  row 01-01\n1   761       Salmon Light  255   201  201   FFC9C9  row 01-02\n2   760             Salmon  245   173  173   F5ADAD  row 01-03\n3  3712      Salmon Medium  241   135  135   F18787  row 01-04\n4  3328        Salmon Dark  227   109  109   E36D6D  row 01-05\n5   347   Salmon Very Dark  191    45   45   BF2D2D  row 01-06\n6   353              Peach  254   215  204   FED7CC  row 01-07\n7   352        Coral Light  253   156  151   FD9C97  row 01-08\n8   351              Coral  233   106  103   E96A67  row 01-09\n9   350       Coral Medium  224    72   72   E04848  row 01-10",
      "text/html": "<div>\n<style scoped>\n    .dataframe tbody tr th:only-of-type {\n        vertical-align: middle;\n    }\n\n    .dataframe tbody tr th {\n        vertical-align: top;\n    }\n\n    .dataframe thead th {\n        text-align: right;\n    }\n</style>\n<table border=\"1\" class=\"dataframe\">\n  <thead>\n    <tr style=\"text-align: right;\">\n      <th></th>\n      <th>floss</th>\n      <th>name</th>\n      <th>Red</th>\n      <th>Green</th>\n      <th>Blue</th>\n      <th>RGB_code</th>\n      <th>row</th>\n    </tr>\n  </thead>\n  <tbody>\n    <tr>\n      <th>0</th>\n      <td>3713</td>\n      <td>Salmon Very Light</td>\n      <td>255</td>\n      <td>226</td>\n      <td>226</td>\n      <td>FFE2E2</td>\n      <td>row 01-01</td>\n    </tr>\n    <tr>\n      <th>1</th>\n      <td>761</td>\n      <td>Salmon Light</td>\n      <td>255</td>\n      <td>201</td>\n      <td>201</td>\n      <td>FFC9C9</td>\n      <td>row 01-02</td>\n    </tr>\n    <tr>\n      <th>2</th>\n      <td>760</td>\n      <td>Salmon</td>\n      <td>245</td>\n      <td>173</td>\n      <td>173</td>\n      <td>F5ADAD</td>\n      <td>row 01-03</td>\n    </tr>\n    <tr>\n      <th>3</th>\n      <td>3712</td>\n      <td>Salmon Medium</td>\n      <td>241</td>\n      <td>135</td>\n      <td>135</td>\n      <td>F18787</td>\n      <td>row 01-04</td>\n    </tr>\n    <tr>\n      <th>4</th>\n      <td>3328</td>\n      <td>Salmon Dark</td>\n      <td>227</td>\n      <td>109</td>\n      <td>109</td>\n      <td>E36D6D</td>\n      <td>row 01-05</td>\n    </tr>\n    <tr>\n      <th>5</th>\n      <td>347</td>\n      <td>Salmon Very Dark</td>\n      <td>191</td>\n      <td>45</td>\n      <td>45</td>\n      <td>BF2D2D</td>\n      <td>row 01-06</td>\n    </tr>\n    <tr>\n      <th>6</th>\n      <td>353</td>\n      <td>Peach</td>\n      <td>254</td>\n      <td>215</td>\n      <td>204</td>\n      <td>FED7CC</td>\n      <td>row 01-07</td>\n    </tr>\n    <tr>\n      <th>7</th>\n      <td>352</td>\n      <td>Coral Light</td>\n      <td>253</td>\n      <td>156</td>\n      <td>151</td>\n      <td>FD9C97</td>\n      <td>row 01-08</td>\n    </tr>\n    <tr>\n      <th>8</th>\n      <td>351</td>\n      <td>Coral</td>\n      <td>233</td>\n      <td>106</td>\n      <td>103</td>\n      <td>E96A67</td>\n      <td>row 01-09</td>\n    </tr>\n    <tr>\n      <th>9</th>\n      <td>350</td>\n      <td>Coral Medium</td>\n      <td>224</td>\n      <td>72</td>\n      <td>72</td>\n      <td>E04848</td>\n      <td>row 01-10</td>\n    </tr>\n  </tbody>\n</table>\n</div>"
     },
     "metadata": {}
    }
   ],
   "execution_count": 17
  },
  {
   "cell_type": "code",
   "source": "rgb_matrix = dmc_rgb[[\"Red\",\"Green\",\"Blue\"]]\nrgb_matrix",
   "metadata": {
    "tags": [],
    "cell_id": "00010-6d7797f8-0aa8-4208-853c-57b0624351d4",
    "deepnote_to_be_reexecuted": false,
    "source_hash": "6a8e5950",
    "execution_start": 1623198352613,
    "execution_millis": 19,
    "deepnote_cell_type": "code"
   },
   "outputs": [
    {
     "output_type": "execute_result",
     "execution_count": 18,
     "data": {
      "application/vnd.deepnote.dataframe.v2+json": {
       "row_count": 454,
       "column_count": 3,
       "columns": [
        {
         "name": "Red",
         "dtype": "object",
         "stats": {
          "unique_count": 199,
          "nan_count": 0,
          "categories": [
           {
            "name": "255",
            "count": 38
           },
           {
            "name": "188",
            "count": 8
           },
           {
            "name": "197 others",
            "count": 408
           }
          ]
         }
        },
        {
         "name": "Green",
         "dtype": "object",
         "stats": {
          "unique_count": 196,
          "nan_count": 0,
          "categories": [
           {
            "name": "106",
            "count": 7
           },
           {
            "name": "179",
            "count": 7
           },
           {
            "name": "194 others",
            "count": 440
           }
          ]
         }
        },
        {
         "name": "Blue",
         "dtype": "object",
         "stats": {
          "unique_count": 206,
          "nan_count": 0,
          "categories": [
           {
            "name": "0",
            "count": 7
           },
           {
            "name": "66",
            "count": 6
           },
           {
            "name": "204 others",
            "count": 441
           }
          ]
         }
        },
        {
         "name": "_deepnote_index_column",
         "dtype": "int64"
        }
       ],
       "rows_top": [
        {
         "Red": "255",
         "Green": "226",
         "Blue": "226",
         "_deepnote_index_column": 0
        },
        {
         "Red": "255",
         "Green": "201",
         "Blue": "201",
         "_deepnote_index_column": 1
        },
        {
         "Red": "245",
         "Green": "173",
         "Blue": "173",
         "_deepnote_index_column": 2
        },
        {
         "Red": "241",
         "Green": "135",
         "Blue": "135",
         "_deepnote_index_column": 3
        },
        {
         "Red": "227",
         "Green": "109",
         "Blue": "109",
         "_deepnote_index_column": 4
        },
        {
         "Red": "191",
         "Green": "45",
         "Blue": "45",
         "_deepnote_index_column": 5
        },
        {
         "Red": "254",
         "Green": "215",
         "Blue": "204",
         "_deepnote_index_column": 6
        },
        {
         "Red": "253",
         "Green": "156",
         "Blue": "151",
         "_deepnote_index_column": 7
        },
        {
         "Red": "233",
         "Green": "106",
         "Blue": "103",
         "_deepnote_index_column": 8
        },
        {
         "Red": "224",
         "Green": "72",
         "Blue": "72",
         "_deepnote_index_column": 9
        },
        {
         "Red": "210",
         "Green": "16",
         "Blue": "53",
         "_deepnote_index_column": 10
        },
        {
         "Red": "187",
         "Green": "5",
         "Blue": "31",
         "_deepnote_index_column": 11
        },
        {
         "Red": "255",
         "Green": "203",
         "Blue": "213",
         "_deepnote_index_column": 12
        },
        {
         "Red": "255",
         "Green": "173",
         "Blue": "188",
         "_deepnote_index_column": 13
        },
        {
         "Red": "255",
         "Green": "121",
         "Blue": "146",
         "_deepnote_index_column": 14
        },
        {
         "Red": "231",
         "Green": "73",
         "Blue": "103",
         "_deepnote_index_column": 15
        },
        {
         "Red": "227",
         "Green": "29",
         "Blue": "66",
         "_deepnote_index_column": 16
        },
        {
         "Red": "199",
         "Green": "43",
         "Blue": "59",
         "_deepnote_index_column": 17
        },
        {
         "Red": "183",
         "Green": "31",
         "Blue": "51",
         "_deepnote_index_column": 18
        },
        {
         "Red": "167",
         "Green": "19",
         "Blue": "43",
         "_deepnote_index_column": 19
        },
        {
         "Red": "151",
         "Green": "11",
         "Blue": "35",
         "_deepnote_index_column": 20
        },
        {
         "Red": "135",
         "Green": "7",
         "Blue": "31",
         "_deepnote_index_column": 21
        },
        {
         "Red": "123",
         "Green": "0",
         "Blue": "27",
         "_deepnote_index_column": 22
        },
        {
         "Red": "255",
         "Green": "178",
         "Blue": "187",
         "_deepnote_index_column": 23
        },
        {
         "Red": "252",
         "Green": "144",
         "Blue": "162",
         "_deepnote_index_column": 24
        },
        {
         "Red": "255",
         "Green": "121",
         "Blue": "140",
         "_deepnote_index_column": 25
        },
        {
         "Red": "255",
         "Green": "87",
         "Blue": "115",
         "_deepnote_index_column": 26
        },
        {
         "Red": "255",
         "Green": "223",
         "Blue": "217",
         "_deepnote_index_column": 27
        },
        {
         "Red": "253",
         "Green": "181",
         "Blue": "181",
         "_deepnote_index_column": 28
        },
        {
         "Red": "255",
         "Green": "145",
         "Blue": "145",
         "_deepnote_index_column": 29
        },
        {
         "Red": "86",
         "Green": "74",
         "Blue": "74",
         "_deepnote_index_column": 30
        },
        {
         "Red": "255",
         "Green": "215",
         "Blue": "215",
         "_deepnote_index_column": 31
        },
        {
         "Red": "255",
         "Green": "189",
         "Blue": "189",
         "_deepnote_index_column": 32
        },
        {
         "Red": "230",
         "Green": "138",
         "Blue": "138",
         "_deepnote_index_column": 33
        },
        {
         "Red": "207",
         "Green": "115",
         "Blue": "115",
         "_deepnote_index_column": 34
        },
        {
         "Red": "234",
         "Green": "134",
         "Blue": "153",
         "_deepnote_index_column": 35
        },
        {
         "Red": "219",
         "Green": "85",
         "Blue": "110",
         "_deepnote_index_column": 36
        },
        {
         "Red": "179",
         "Green": "47",
         "Blue": "72",
         "_deepnote_index_column": 37
        },
        {
         "Red": "145",
         "Green": "53",
         "Blue": "70",
         "_deepnote_index_column": 38
        },
        {
         "Red": "255",
         "Green": "238",
         "Blue": "235",
         "_deepnote_index_column": 39
        },
        {
         "Red": "251",
         "Green": "173",
         "Blue": "180",
         "_deepnote_index_column": 40
        },
        {
         "Red": "252",
         "Green": "176",
         "Blue": "185",
         "_deepnote_index_column": 41
        },
        {
         "Red": "242",
         "Green": "118",
         "Blue": "136",
         "_deepnote_index_column": 42
        },
        {
         "Red": "238",
         "Green": "84",
         "Blue": "110",
         "_deepnote_index_column": 43
        },
        {
         "Red": "179",
         "Green": "59",
         "Blue": "75",
         "_deepnote_index_column": 44
        },
        {
         "Red": "240",
         "Green": "206",
         "Blue": "212",
         "_deepnote_index_column": 45
        },
        {
         "Red": "228",
         "Green": "166",
         "Blue": "172",
         "_deepnote_index_column": 46
        },
        {
         "Red": "232",
         "Green": "135",
         "Blue": "155",
         "_deepnote_index_column": 47
        },
        {
         "Red": "218",
         "Green": "103",
         "Blue": "131",
         "_deepnote_index_column": 48
        },
        {
         "Red": "188",
         "Green": "67",
         "Blue": "101",
         "_deepnote_index_column": 49
        },
        {
         "Red": "171",
         "Green": "2",
         "Blue": "73",
         "_deepnote_index_column": 50
        },
        {
         "Red": "251",
         "Green": "191",
         "Blue": "194",
         "_deepnote_index_column": 51
        },
        {
         "Red": "231",
         "Green": "169",
         "Blue": "172",
         "_deepnote_index_column": 52
        },
        {
         "Red": "201",
         "Green": "107",
         "Blue": "112",
         "_deepnote_index_column": 53
        },
        {
         "Red": "171",
         "Green": "51",
         "Blue": "87",
         "_deepnote_index_column": 54
        },
        {
         "Red": "136",
         "Green": "21",
         "Blue": "49",
         "_deepnote_index_column": 55
        },
        {
         "Red": "255",
         "Green": "192",
         "Blue": "205",
         "_deepnote_index_column": 56
        },
        {
         "Red": "255",
         "Green": "176",
         "Blue": "190",
         "_deepnote_index_column": 57
        },
        {
         "Red": "255",
         "Green": "164",
         "Blue": "190",
         "_deepnote_index_column": 58
        },
        {
         "Red": "226",
         "Green": "72",
         "Blue": "116",
         "_deepnote_index_column": 59
        },
        {
         "Red": "209",
         "Green": "40",
         "Blue": "106",
         "_deepnote_index_column": 60
        },
        {
         "Red": "205",
         "Green": "47",
         "Blue": "99",
         "_deepnote_index_column": 61
        },
        {
         "Red": "255",
         "Green": "140",
         "Blue": "174",
         "_deepnote_index_column": 62
        },
        {
         "Red": "243",
         "Green": "71",
         "Blue": "139",
         "_deepnote_index_column": 63
        },
        {
         "Red": "224",
         "Green": "40",
         "Blue": "118",
         "_deepnote_index_column": 64
        },
        {
         "Red": "244",
         "Green": "174",
         "Blue": "213",
         "_deepnote_index_column": 65
        },
        {
         "Red": "234",
         "Green": "156",
         "Blue": "196",
         "_deepnote_index_column": 66
        },
        {
         "Red": "197",
         "Green": "73",
         "Blue": "137",
         "_deepnote_index_column": 67
        },
        {
         "Red": "156",
         "Green": "36",
         "Blue": "98",
         "_deepnote_index_column": 68
        },
        {
         "Red": "155",
         "Green": "19",
         "Blue": "89",
         "_deepnote_index_column": 69
        },
        {
         "Red": "130",
         "Green": "0",
         "Blue": "67",
         "_deepnote_index_column": 70
        },
        {
         "Red": "255",
         "Green": "223",
         "Blue": "213",
         "_deepnote_index_column": 71
        },
        {
         "Red": "235",
         "Green": "183",
         "Blue": "175",
         "_deepnote_index_column": 72
        },
        {
         "Red": "226",
         "Green": "160",
         "Blue": "153",
         "_deepnote_index_column": 73
        },
        {
         "Red": "204",
         "Green": "132",
         "Blue": "124",
         "_deepnote_index_column": 74
        },
        {
         "Red": "188",
         "Green": "108",
         "Blue": "100",
         "_deepnote_index_column": 75
        },
        {
         "Red": "161",
         "Green": "75",
         "Blue": "81",
         "_deepnote_index_column": 76
        },
        {
         "Red": "136",
         "Green": "62",
         "Blue": "67",
         "_deepnote_index_column": 77
        },
        {
         "Red": "223",
         "Green": "179",
         "Blue": "187",
         "_deepnote_index_column": 78
        },
        {
         "Red": "219",
         "Green": "169",
         "Blue": "178",
         "_deepnote_index_column": 79
        },
        {
         "Red": "183",
         "Green": "115",
         "Blue": "127",
         "_deepnote_index_column": 80
        },
        {
         "Red": "155",
         "Green": "91",
         "Blue": "102",
         "_deepnote_index_column": 81
        },
        {
         "Red": "129",
         "Green": "73",
         "Blue": "82",
         "_deepnote_index_column": 82
        },
        {
         "Red": "113",
         "Green": "65",
         "Blue": "73",
         "_deepnote_index_column": 83
        },
        {
         "Red": "130",
         "Green": "38",
         "Blue": "55",
         "_deepnote_index_column": 84
        },
        {
         "Red": "215",
         "Green": "203",
         "Blue": "211",
         "_deepnote_index_column": 85
        },
        {
         "Red": "183",
         "Green": "157",
         "Blue": "167",
         "_deepnote_index_column": 86
        },
        {
         "Red": "149",
         "Green": "111",
         "Blue": "124",
         "_deepnote_index_column": 87
        },
        {
         "Red": "120",
         "Green": "87",
         "Blue": "98",
         "_deepnote_index_column": 88
        },
        {
         "Red": "186",
         "Green": "145",
         "Blue": "170",
         "_deepnote_index_column": 89
        },
        {
         "Red": "148",
         "Green": "96",
         "Blue": "131",
         "_deepnote_index_column": 90
        },
        {
         "Red": "114",
         "Green": "55",
         "Blue": "93",
         "_deepnote_index_column": 91
        },
        {
         "Red": "87",
         "Green": "36",
         "Blue": "51",
         "_deepnote_index_column": 92
        },
        {
         "Red": "227",
         "Green": "203",
         "Blue": "227",
         "_deepnote_index_column": 93
        },
        {
         "Red": "195",
         "Green": "159",
         "Blue": "195",
         "_deepnote_index_column": 94
        },
        {
         "Red": "163",
         "Green": "123",
         "Blue": "167",
         "_deepnote_index_column": 95
        },
        {
         "Red": "131",
         "Green": "91",
         "Blue": "139",
         "_deepnote_index_column": 96
        },
        {
         "Red": "108",
         "Green": "58",
         "Blue": "110",
         "_deepnote_index_column": 97
        },
        {
         "Red": "99",
         "Green": "54",
         "Blue": "102",
         "_deepnote_index_column": 98
        },
        {
         "Red": "230",
         "Green": "204",
         "Blue": "217",
         "_deepnote_index_column": 99
        },
        {
         "Red": "219",
         "Green": "179",
         "Blue": "203",
         "_deepnote_index_column": 100
        },
        {
         "Red": "163",
         "Green": "99",
         "Blue": "139",
         "_deepnote_index_column": 101
        },
        {
         "Red": "128",
         "Green": "58",
         "Blue": "107",
         "_deepnote_index_column": 102
        },
        {
         "Red": "92",
         "Green": "24",
         "Blue": "78",
         "_deepnote_index_column": 103
        },
        {
         "Red": "211",
         "Green": "215",
         "Blue": "237",
         "_deepnote_index_column": 104
        },
        {
         "Red": "183",
         "Green": "191",
         "Blue": "221",
         "_deepnote_index_column": 105
        },
        {
         "Red": "163",
         "Green": "174",
         "Blue": "209",
         "_deepnote_index_column": 106
        },
        {
         "Red": "173",
         "Green": "167",
         "Blue": "199",
         "_deepnote_index_column": 107
        },
        {
         "Red": "152",
         "Green": "145",
         "Blue": "182",
         "_deepnote_index_column": 108
        },
        {
         "Red": "119",
         "Green": "107",
         "Blue": "152",
         "_deepnote_index_column": 109
        },
        {
         "Red": "92",
         "Green": "84",
         "Blue": "120",
         "_deepnote_index_column": 110
        },
        {
         "Red": "187",
         "Green": "195",
         "Blue": "217",
         "_deepnote_index_column": 111
        },
        {
         "Red": "143",
         "Green": "156",
         "Blue": "193",
         "_deepnote_index_column": 112
        },
        {
         "Red": "112",
         "Green": "125",
         "Blue": "162",
         "_deepnote_index_column": 113
        },
        {
         "Red": "96",
         "Green": "103",
         "Blue": "140",
         "_deepnote_index_column": 114
        },
        {
         "Red": "85",
         "Green": "91",
         "Blue": "123",
         "_deepnote_index_column": 115
        },
        {
         "Red": "76",
         "Green": "82",
         "Blue": "110",
         "_deepnote_index_column": 116
        },
        {
         "Red": "70",
         "Green": "69",
         "Blue": "99",
         "_deepnote_index_column": 117
        },
        {
         "Red": "176",
         "Green": "192",
         "Blue": "218",
         "_deepnote_index_column": 118
        },
        {
         "Red": "123",
         "Green": "142",
         "Blue": "171",
         "_deepnote_index_column": 119
        },
        {
         "Red": "92",
         "Green": "114",
         "Blue": "148",
         "_deepnote_index_column": 120
        },
        {
         "Red": "192",
         "Green": "204",
         "Blue": "222",
         "_deepnote_index_column": 121
        },
        {
         "Red": "148",
         "Green": "168",
         "Blue": "198",
         "_deepnote_index_column": 122
        },
        {
         "Red": "116",
         "Green": "142",
         "Blue": "182",
         "_deepnote_index_column": 123
        },
        {
         "Red": "70",
         "Green": "106",
         "Blue": "142",
         "_deepnote_index_column": 124
        },
        {
         "Red": "19",
         "Green": "71",
         "Blue": "125",
         "_deepnote_index_column": 125
        },
        {
         "Red": "17",
         "Green": "65",
         "Blue": "109",
         "_deepnote_index_column": 126
        },
        {
         "Red": "14",
         "Green": "54",
         "Blue": "92",
         "_deepnote_index_column": 127
        },
        {
         "Red": "219",
         "Green": "236",
         "Blue": "245",
         "_deepnote_index_column": 128
        },
        {
         "Red": "189",
         "Green": "221",
         "Blue": "237",
         "_deepnote_index_column": 129
        },
        {
         "Red": "161",
         "Green": "194",
         "Blue": "215",
         "_deepnote_index_column": 130
        },
        {
         "Red": "107",
         "Green": "158",
         "Blue": "191",
         "_deepnote_index_column": 131
        },
        {
         "Red": "71",
         "Green": "129",
         "Blue": "165",
         "_deepnote_index_column": 132
        },
        {
         "Red": "57",
         "Green": "105",
         "Blue": "135",
         "_deepnote_index_column": 133
        },
        {
         "Red": "48",
         "Green": "194",
         "Blue": "236",
         "_deepnote_index_column": 134
        },
        {
         "Red": "20",
         "Green": "170",
         "Blue": "208",
         "_deepnote_index_column": 135
        },
        {
         "Red": "38",
         "Green": "150",
         "Blue": "182",
         "_deepnote_index_column": 136
        },
        {
         "Red": "6",
         "Green": "227",
         "Blue": "230",
         "_deepnote_index_column": 137
        },
        {
         "Red": "4",
         "Green": "196",
         "Blue": "202",
         "_deepnote_index_column": 138
        },
        {
         "Red": "18",
         "Green": "174",
         "Blue": "186",
         "_deepnote_index_column": 139
        },
        {
         "Red": "199",
         "Green": "202",
         "Blue": "215",
         "_deepnote_index_column": 140
        },
        {
         "Red": "153",
         "Green": "159",
         "Blue": "183",
         "_deepnote_index_column": 141
        },
        {
         "Red": "120",
         "Green": "128",
         "Blue": "164",
         "_deepnote_index_column": 142
        },
        {
         "Red": "238",
         "Green": "252",
         "Blue": "252",
         "_deepnote_index_column": 143
        },
        {
         "Red": "217",
         "Green": "235",
         "Blue": "241",
         "_deepnote_index_column": 144
        },
        {
         "Red": "205",
         "Green": "223",
         "Blue": "237",
         "_deepnote_index_column": 145
        },
        {
         "Red": "184",
         "Green": "210",
         "Blue": "230",
         "_deepnote_index_column": 146
        },
        {
         "Red": "147",
         "Green": "180",
         "Blue": "206",
         "_deepnote_index_column": 147
        },
        {
         "Red": "115",
         "Green": "159",
         "Blue": "193",
         "_deepnote_index_column": 148
        },
        {
         "Red": "90",
         "Green": "143",
         "Blue": "184",
         "_deepnote_index_column": 149
        },
        {
         "Red": "53",
         "Green": "102",
         "Blue": "139",
         "_deepnote_index_column": 150
        },
        {
         "Red": "44",
         "Green": "89",
         "Blue": "124",
         "_deepnote_index_column": 151
        },
        {
         "Red": "37",
         "Green": "59",
         "Blue": "115",
         "_deepnote_index_column": 152
        },
        {
         "Red": "33",
         "Green": "48",
         "Blue": "99",
         "_deepnote_index_column": 153
        },
        {
         "Red": "27",
         "Green": "40",
         "Blue": "83",
         "_deepnote_index_column": 154
        },
        {
         "Red": "219",
         "Green": "226",
         "Blue": "233",
         "_deepnote_index_column": 155
        },
        {
         "Red": "199",
         "Green": "209",
         "Blue": "219",
         "_deepnote_index_column": 156
        },
        {
         "Red": "162",
         "Green": "181",
         "Blue": "198",
         "_deepnote_index_column": 157
        },
        {
         "Red": "106",
         "Green": "133",
         "Blue": "158",
         "_deepnote_index_column": 158
        },
        {
         "Red": "69",
         "Green": "92",
         "Blue": "113",
         "_deepnote_index_column": 159
        },
        {
         "Red": "56",
         "Green": "76",
         "Blue": "94",
         "_deepnote_index_column": 160
        },
        {
         "Red": "197",
         "Green": "232",
         "Blue": "237",
         "_deepnote_index_column": 161
        },
        {
         "Red": "172",
         "Green": "216",
         "Blue": "226",
         "_deepnote_index_column": 162
        },
        {
         "Red": "126",
         "Green": "177",
         "Blue": "200",
         "_deepnote_index_column": 163
        },
        {
         "Red": "79",
         "Green": "147",
         "Blue": "167",
         "_deepnote_index_column": 164
        },
        {
         "Red": "62",
         "Green": "133",
         "Blue": "162",
         "_deepnote_index_column": 165
        }
       ],
       "rows_bottom": [
        {
         "Red": "170",
         "Green": "143",
         "Blue": "86",
         "_deepnote_index_column": 287
        },
        {
         "Red": "141",
         "Green": "120",
         "Blue": "75",
         "_deepnote_index_column": 288
        },
        {
         "Red": "126",
         "Green": "107",
         "Blue": "66",
         "_deepnote_index_column": 289
        },
        {
         "Red": "220",
         "Green": "196",
         "Blue": "170",
         "_deepnote_index_column": 290
        },
        {
         "Red": "188",
         "Green": "154",
         "Blue": "120",
         "_deepnote_index_column": 291
        },
        {
         "Red": "150",
         "Green": "118",
         "Blue": "86",
         "_deepnote_index_column": 292
        },
        {
         "Red": "121",
         "Green": "96",
         "Blue": "71",
         "_deepnote_index_column": 293
        },
        {
         "Red": "231",
         "Green": "214",
         "Blue": "193",
         "_deepnote_index_column": 294
        },
        {
         "Red": "216",
         "Green": "188",
         "Blue": "154",
         "_deepnote_index_column": 295
        },
        {
         "Red": "188",
         "Green": "150",
         "Blue": "106",
         "_deepnote_index_column": 296
        },
        {
         "Red": "167",
         "Green": "124",
         "Blue": "73",
         "_deepnote_index_column": 297
        },
        {
         "Red": "252",
         "Green": "252",
         "Blue": "238",
         "_deepnote_index_column": 298
        },
        {
         "Red": "245",
         "Green": "236",
         "Blue": "203",
         "_deepnote_index_column": 299
        },
        {
         "Red": "198",
         "Green": "159",
         "Blue": "123",
         "_deepnote_index_column": 300
        },
        {
         "Red": "183",
         "Green": "139",
         "Blue": "97",
         "_deepnote_index_column": 301
        },
        {
         "Red": "160",
         "Green": "112",
         "Blue": "66",
         "_deepnote_index_column": 302
        },
        {
         "Red": "131",
         "Green": "94",
         "Blue": "57",
         "_deepnote_index_column": 303
        },
        {
         "Red": "228",
         "Green": "180",
         "Blue": "104",
         "_deepnote_index_column": 304
        },
        {
         "Red": "206",
         "Green": "145",
         "Blue": "36",
         "_deepnote_index_column": 305
        },
        {
         "Red": "174",
         "Green": "119",
         "Blue": "32",
         "_deepnote_index_column": 306
        },
        {
         "Red": "162",
         "Green": "109",
         "Blue": "32",
         "_deepnote_index_column": 307
        },
        {
         "Red": "148",
         "Green": "99",
         "Blue": "26",
         "_deepnote_index_column": 308
        },
        {
         "Red": "229",
         "Green": "206",
         "Blue": "151",
         "_deepnote_index_column": 309
        },
        {
         "Red": "208",
         "Green": "165",
         "Blue": "62",
         "_deepnote_index_column": 310
        },
        {
         "Red": "188",
         "Green": "141",
         "Blue": "14",
         "_deepnote_index_column": 311
        },
        {
         "Red": "169",
         "Green": "130",
         "Blue": "4",
         "_deepnote_index_column": 312
        },
        {
         "Red": "246",
         "Green": "220",
         "Blue": "152",
         "_deepnote_index_column": 313
        },
        {
         "Red": "243",
         "Green": "206",
         "Blue": "117",
         "_deepnote_index_column": 314
        },
        {
         "Red": "223",
         "Green": "182",
         "Blue": "95",
         "_deepnote_index_column": 315
        },
        {
         "Red": "205",
         "Green": "157",
         "Blue": "55",
         "_deepnote_index_column": 316
        },
        {
         "Red": "255",
         "Green": "251",
         "Blue": "139",
         "_deepnote_index_column": 317
        },
        {
         "Red": "253",
         "Green": "237",
         "Blue": "84",
         "_deepnote_index_column": 318
        },
        {
         "Red": "255",
         "Green": "227",
         "Blue": "0",
         "_deepnote_index_column": 319
        },
        {
         "Red": "255",
         "Green": "214",
         "Blue": "0",
         "_deepnote_index_column": 320
        },
        {
         "Red": "253",
         "Green": "249",
         "Blue": "205",
         "_deepnote_index_column": 321
        },
        {
         "Red": "255",
         "Green": "241",
         "Blue": "175",
         "_deepnote_index_column": 322
        },
        {
         "Red": "253",
         "Green": "215",
         "Blue": "85",
         "_deepnote_index_column": 323
        },
        {
         "Red": "255",
         "Green": "200",
         "Blue": "64",
         "_deepnote_index_column": 324
        },
        {
         "Red": "255",
         "Green": "181",
         "Blue": "21",
         "_deepnote_index_column": 325
        },
        {
         "Red": "255",
         "Green": "233",
         "Blue": "173",
         "_deepnote_index_column": 326
        },
        {
         "Red": "255",
         "Green": "231",
         "Blue": "147",
         "_deepnote_index_column": 327
        },
        {
         "Red": "254",
         "Green": "211",
         "Blue": "118",
         "_deepnote_index_column": 328
        },
        {
         "Red": "255",
         "Green": "191",
         "Blue": "87",
         "_deepnote_index_column": 329
        },
        {
         "Red": "255",
         "Green": "163",
         "Blue": "43",
         "_deepnote_index_column": 330
        },
        {
         "Red": "255",
         "Green": "139",
         "Blue": "0",
         "_deepnote_index_column": 331
        },
        {
         "Red": "247",
         "Green": "139",
         "Blue": "19",
         "_deepnote_index_column": 332
        },
        {
         "Red": "246",
         "Green": "127",
         "Blue": "0",
         "_deepnote_index_column": 333
        },
        {
         "Red": "255",
         "Green": "123",
         "Blue": "77",
         "_deepnote_index_column": 334
        },
        {
         "Red": "235",
         "Green": "99",
         "Blue": "7",
         "_deepnote_index_column": 335
        },
        {
         "Red": "209",
         "Green": "88",
         "Blue": "7",
         "_deepnote_index_column": 336
        },
        {
         "Red": "255",
         "Green": "222",
         "Blue": "213",
         "_deepnote_index_column": 337
        },
        {
         "Red": "254",
         "Green": "205",
         "Blue": "194",
         "_deepnote_index_column": 338
        },
        {
         "Red": "252",
         "Green": "171",
         "Blue": "152",
         "_deepnote_index_column": 339
        },
        {
         "Red": "255",
         "Green": "131",
         "Blue": "111",
         "_deepnote_index_column": 340
        },
        {
         "Red": "253",
         "Green": "93",
         "Blue": "53",
         "_deepnote_index_column": 341
        },
        {
         "Red": "250",
         "Green": "50",
         "Blue": "3",
         "_deepnote_index_column": 342
        },
        {
         "Red": "255",
         "Green": "226",
         "Blue": "207",
         "_deepnote_index_column": 343
        },
        {
         "Red": "255",
         "Green": "211",
         "Blue": "181",
         "_deepnote_index_column": 344
        },
        {
         "Red": "247",
         "Green": "151",
         "Blue": "111",
         "_deepnote_index_column": 345
        },
        {
         "Red": "242",
         "Green": "120",
         "Blue": "66",
         "_deepnote_index_column": 346
        },
        {
         "Red": "229",
         "Green": "92",
         "Blue": "31",
         "_deepnote_index_column": 347
        },
        {
         "Red": "253",
         "Green": "189",
         "Blue": "150",
         "_deepnote_index_column": 348
        },
        {
         "Red": "226",
         "Green": "115",
         "Blue": "35",
         "_deepnote_index_column": 349
        },
        {
         "Red": "198",
         "Green": "98",
         "Blue": "24",
         "_deepnote_index_column": 350
        },
        {
         "Red": "172",
         "Green": "84",
         "Blue": "20",
         "_deepnote_index_column": 351
        },
        {
         "Red": "166",
         "Green": "69",
         "Blue": "16",
         "_deepnote_index_column": 352
        },
        {
         "Red": "130",
         "Green": "52",
         "Blue": "10",
         "_deepnote_index_column": 353
        },
        {
         "Red": "255",
         "Green": "238",
         "Blue": "227",
         "_deepnote_index_column": 354
        },
        {
         "Red": "251",
         "Green": "213",
         "Blue": "187",
         "_deepnote_index_column": 355
        },
        {
         "Red": "247",
         "Green": "167",
         "Blue": "119",
         "_deepnote_index_column": 356
        },
        {
         "Red": "207",
         "Green": "121",
         "Blue": "57",
         "_deepnote_index_column": 357
        },
        {
         "Red": "179",
         "Green": "95",
         "Blue": "43",
         "_deepnote_index_column": 358
        },
        {
         "Red": "143",
         "Green": "67",
         "Blue": "15",
         "_deepnote_index_column": 359
        },
        {
         "Red": "111",
         "Green": "47",
         "Blue": "0",
         "_deepnote_index_column": 360
        },
        {
         "Red": "255",
         "Green": "253",
         "Blue": "227",
         "_deepnote_index_column": 361
        },
        {
         "Red": "250",
         "Green": "211",
         "Blue": "150",
         "_deepnote_index_column": 362
        },
        {
         "Red": "242",
         "Green": "175",
         "Blue": "104",
         "_deepnote_index_column": 363
        },
        {
         "Red": "242",
         "Green": "151",
         "Blue": "70",
         "_deepnote_index_column": 364
        },
        {
         "Red": "247",
         "Green": "187",
         "Blue": "119",
         "_deepnote_index_column": 365
        },
        {
         "Red": "220",
         "Green": "156",
         "Blue": "86",
         "_deepnote_index_column": 366
        },
        {
         "Red": "194",
         "Green": "129",
         "Blue": "66",
         "_deepnote_index_column": 367
        },
        {
         "Red": "173",
         "Green": "114",
         "Blue": "57",
         "_deepnote_index_column": 368
        },
        {
         "Red": "145",
         "Green": "79",
         "Blue": "18",
         "_deepnote_index_column": 369
        },
        {
         "Red": "254",
         "Green": "231",
         "Blue": "218",
         "_deepnote_index_column": 370
        },
        {
         "Red": "247",
         "Green": "203",
         "Blue": "191",
         "_deepnote_index_column": 371
        },
        {
         "Red": "244",
         "Green": "187",
         "Blue": "169",
         "_deepnote_index_column": 372
        },
        {
         "Red": "238",
         "Green": "170",
         "Blue": "155",
         "_deepnote_index_column": 373
        },
        {
         "Red": "217",
         "Green": "137",
         "Blue": "120",
         "_deepnote_index_column": 374
        },
        {
         "Red": "197",
         "Green": "106",
         "Blue": "91",
         "_deepnote_index_column": 375
        },
        {
         "Red": "185",
         "Green": "85",
         "Blue": "68",
         "_deepnote_index_column": 376
        },
        {
         "Red": "152",
         "Green": "68",
         "Blue": "54",
         "_deepnote_index_column": 377
        },
        {
         "Red": "134",
         "Green": "48",
         "Blue": "34",
         "_deepnote_index_column": 378
        },
        {
         "Red": "248",
         "Green": "202",
         "Blue": "200",
         "_deepnote_index_column": 379
        },
        {
         "Red": "186",
         "Green": "139",
         "Blue": "124",
         "_deepnote_index_column": 380
        },
        {
         "Red": "150",
         "Green": "74",
         "Blue": "63",
         "_deepnote_index_column": 381
        },
        {
         "Red": "104",
         "Green": "37",
         "Blue": "26",
         "_deepnote_index_column": 382
        },
        {
         "Red": "243",
         "Green": "225",
         "Blue": "215",
         "_deepnote_index_column": 383
        },
        {
         "Red": "238",
         "Green": "211",
         "Blue": "196",
         "_deepnote_index_column": 384
        },
        {
         "Red": "196",
         "Green": "142",
         "Blue": "112",
         "_deepnote_index_column": 385
        },
        {
         "Red": "187",
         "Green": "129",
         "Blue": "97",
         "_deepnote_index_column": 386
        },
        {
         "Red": "182",
         "Green": "117",
         "Blue": "82",
         "_deepnote_index_column": 387
        },
        {
         "Red": "160",
         "Green": "108",
         "Blue": "80",
         "_deepnote_index_column": 388
        },
        {
         "Red": "135",
         "Green": "85",
         "Blue": "57",
         "_deepnote_index_column": 389
        },
        {
         "Red": "215",
         "Green": "206",
         "Blue": "203",
         "_deepnote_index_column": 390
        },
        {
         "Red": "192",
         "Green": "179",
         "Blue": "174",
         "_deepnote_index_column": 391
        },
        {
         "Red": "145",
         "Green": "123",
         "Blue": "115",
         "_deepnote_index_column": 392
        },
        {
         "Red": "166",
         "Green": "136",
         "Blue": "129",
         "_deepnote_index_column": 393
        },
        {
         "Red": "125",
         "Green": "93",
         "Blue": "87",
         "_deepnote_index_column": 394
        },
        {
         "Red": "98",
         "Green": "75",
         "Blue": "69",
         "_deepnote_index_column": 395
        },
        {
         "Red": "255",
         "Green": "251",
         "Blue": "239",
         "_deepnote_index_column": 396
        },
        {
         "Red": "248",
         "Green": "228",
         "Blue": "200",
         "_deepnote_index_column": 397
        },
        {
         "Red": "236",
         "Green": "204",
         "Blue": "158",
         "_deepnote_index_column": 398
        },
        {
         "Red": "228",
         "Green": "187",
         "Blue": "142",
         "_deepnote_index_column": 399
        },
        {
         "Red": "203",
         "Green": "144",
         "Blue": "81",
         "_deepnote_index_column": 400
        },
        {
         "Red": "184",
         "Green": "119",
         "Blue": "72",
         "_deepnote_index_column": 401
        },
        {
         "Red": "152",
         "Green": "94",
         "Blue": "51",
         "_deepnote_index_column": 402
        },
        {
         "Red": "122",
         "Green": "69",
         "Blue": "31",
         "_deepnote_index_column": 403
        },
        {
         "Red": "101",
         "Green": "57",
         "Blue": "25",
         "_deepnote_index_column": 404
        },
        {
         "Red": "73",
         "Green": "42",
         "Blue": "19",
         "_deepnote_index_column": 405
        },
        {
         "Red": "54",
         "Green": "31",
         "Blue": "14",
         "_deepnote_index_column": 406
        },
        {
         "Red": "30",
         "Green": "17",
         "Blue": "8",
         "_deepnote_index_column": 407
        },
        {
         "Red": "242",
         "Green": "227",
         "Blue": "206",
         "_deepnote_index_column": 408
        },
        {
         "Red": "203",
         "Green": "182",
         "Blue": "156",
         "_deepnote_index_column": 409
        },
        {
         "Red": "164",
         "Green": "131",
         "Blue": "92",
         "_deepnote_index_column": 410
        },
        {
         "Red": "138",
         "Green": "110",
         "Blue": "78",
         "_deepnote_index_column": 411
        },
        {
         "Red": "75",
         "Green": "60",
         "Blue": "42",
         "_deepnote_index_column": 412
        },
        {
         "Red": "255",
         "Green": "255",
         "Blue": "255",
         "_deepnote_index_column": 413
        },
        {
         "Red": "252",
         "Green": "251",
         "Blue": "248",
         "_deepnote_index_column": 414
        },
        {
         "Red": "249",
         "Green": "247",
         "Blue": "241",
         "_deepnote_index_column": 415
        },
        {
         "Red": "240",
         "Green": "234",
         "Blue": "218",
         "_deepnote_index_column": 416
        },
        {
         "Red": "231",
         "Green": "226",
         "Blue": "211",
         "_deepnote_index_column": 417
        },
        {
         "Red": "221",
         "Green": "216",
         "Blue": "203",
         "_deepnote_index_column": 418
        },
        {
         "Red": "164",
         "Green": "152",
         "Blue": "120",
         "_deepnote_index_column": 419
        },
        {
         "Red": "133",
         "Green": "123",
         "Blue": "97",
         "_deepnote_index_column": 420
        },
        {
         "Red": "98",
         "Green": "93",
         "Blue": "80",
         "_deepnote_index_column": 421
        },
        {
         "Red": "79",
         "Green": "75",
         "Blue": "65",
         "_deepnote_index_column": 422
        },
        {
         "Red": "235",
         "Green": "234",
         "Blue": "231",
         "_deepnote_index_column": 423
        },
        {
         "Red": "177",
         "Green": "170",
         "Blue": "151",
         "_deepnote_index_column": 424
        },
        {
         "Red": "142",
         "Green": "144",
         "Blue": "120",
         "_deepnote_index_column": 425
        },
        {
         "Red": "99",
         "Green": "100",
         "Blue": "88",
         "_deepnote_index_column": 426
        },
        {
         "Red": "227",
         "Green": "216",
         "Blue": "204",
         "_deepnote_index_column": 427
        },
        {
         "Red": "210",
         "Green": "188",
         "Blue": "166",
         "_deepnote_index_column": 428
        },
        {
         "Red": "179",
         "Green": "159",
         "Blue": "139",
         "_deepnote_index_column": 429
        },
        {
         "Red": "127",
         "Green": "106",
         "Blue": "85",
         "_deepnote_index_column": 430
        },
        {
         "Red": "107",
         "Green": "87",
         "Blue": "67",
         "_deepnote_index_column": 431
        },
        {
         "Red": "250",
         "Green": "246",
         "Blue": "240",
         "_deepnote_index_column": 432
        },
        {
         "Red": "209",
         "Green": "186",
         "Blue": "161",
         "_deepnote_index_column": 433
        },
        {
         "Red": "182",
         "Green": "155",
         "Blue": "126",
         "_deepnote_index_column": 434
        },
        {
         "Red": "154",
         "Green": "124",
         "Blue": "92",
         "_deepnote_index_column": 435
        },
        {
         "Red": "103",
         "Green": "85",
         "Blue": "65",
         "_deepnote_index_column": 436
        },
        {
         "Red": "89",
         "Green": "73",
         "Blue": "55",
         "_deepnote_index_column": 437
        },
        {
         "Red": "230",
         "Green": "232",
         "Blue": "232",
         "_deepnote_index_column": 438
        },
        {
         "Red": "188",
         "Green": "180",
         "Blue": "172",
         "_deepnote_index_column": 439
        },
        {
         "Red": "176",
         "Green": "166",
         "Blue": "156",
         "_deepnote_index_column": 440
        },
        {
         "Red": "135",
         "Green": "125",
         "Blue": "115",
         "_deepnote_index_column": 441
        },
        {
         "Red": "110",
         "Green": "101",
         "Blue": "92",
         "_deepnote_index_column": 442
        },
        {
         "Red": "72",
         "Green": "72",
         "Blue": "72",
         "_deepnote_index_column": 443
        },
        {
         "Red": "236",
         "Green": "236",
         "Blue": "236",
         "_deepnote_index_column": 444
        },
        {
         "Red": "211",
         "Green": "211",
         "Blue": "214",
         "_deepnote_index_column": 445
        },
        {
         "Red": "171",
         "Green": "171",
         "Blue": "171",
         "_deepnote_index_column": 446
        },
        {
         "Red": "140",
         "Green": "140",
         "Blue": "140",
         "_deepnote_index_column": 447
        },
        {
         "Red": "209",
         "Green": "209",
         "Blue": "209",
         "_deepnote_index_column": 448
        },
        {
         "Red": "132",
         "Green": "132",
         "Blue": "132",
         "_deepnote_index_column": 449
        },
        {
         "Red": "108",
         "Green": "108",
         "Blue": "108",
         "_deepnote_index_column": 450
        },
        {
         "Red": "86",
         "Green": "86",
         "Blue": "86",
         "_deepnote_index_column": 451
        },
        {
         "Red": "66",
         "Green": "66",
         "Blue": "66",
         "_deepnote_index_column": 452
        },
        {
         "Red": "0",
         "Green": "0",
         "Blue": "0",
         "_deepnote_index_column": 453
        }
       ]
      },
      "text/plain": "     Red Green Blue\n0    255   226  226\n1    255   201  201\n2    245   173  173\n3    241   135  135\n4    227   109  109\n..   ...   ...  ...\n449  132   132  132\n450  108   108  108\n451   86    86   86\n452   66    66   66\n453    0     0    0\n\n[454 rows x 3 columns]",
      "text/html": "<div>\n<style scoped>\n    .dataframe tbody tr th:only-of-type {\n        vertical-align: middle;\n    }\n\n    .dataframe tbody tr th {\n        vertical-align: top;\n    }\n\n    .dataframe thead th {\n        text-align: right;\n    }\n</style>\n<table border=\"1\" class=\"dataframe\">\n  <thead>\n    <tr style=\"text-align: right;\">\n      <th></th>\n      <th>Red</th>\n      <th>Green</th>\n      <th>Blue</th>\n    </tr>\n  </thead>\n  <tbody>\n    <tr>\n      <th>0</th>\n      <td>255</td>\n      <td>226</td>\n      <td>226</td>\n    </tr>\n    <tr>\n      <th>1</th>\n      <td>255</td>\n      <td>201</td>\n      <td>201</td>\n    </tr>\n    <tr>\n      <th>2</th>\n      <td>245</td>\n      <td>173</td>\n      <td>173</td>\n    </tr>\n    <tr>\n      <th>3</th>\n      <td>241</td>\n      <td>135</td>\n      <td>135</td>\n    </tr>\n    <tr>\n      <th>4</th>\n      <td>227</td>\n      <td>109</td>\n      <td>109</td>\n    </tr>\n    <tr>\n      <th>...</th>\n      <td>...</td>\n      <td>...</td>\n      <td>...</td>\n    </tr>\n    <tr>\n      <th>449</th>\n      <td>132</td>\n      <td>132</td>\n      <td>132</td>\n    </tr>\n    <tr>\n      <th>450</th>\n      <td>108</td>\n      <td>108</td>\n      <td>108</td>\n    </tr>\n    <tr>\n      <th>451</th>\n      <td>86</td>\n      <td>86</td>\n      <td>86</td>\n    </tr>\n    <tr>\n      <th>452</th>\n      <td>66</td>\n      <td>66</td>\n      <td>66</td>\n    </tr>\n    <tr>\n      <th>453</th>\n      <td>0</td>\n      <td>0</td>\n      <td>0</td>\n    </tr>\n  </tbody>\n</table>\n<p>454 rows × 3 columns</p>\n</div>"
     },
     "metadata": {}
    }
   ],
   "execution_count": 18
  },
  {
   "cell_type": "markdown",
   "source": "## ",
   "metadata": {
    "tags": [],
    "cell_id": "00014-5b08000d-f0fd-4c64-a3ec-0519483dd0f0",
    "deepnote_cell_type": "markdown"
   }
  },
  {
   "cell_type": "code",
   "source": "",
   "metadata": {
    "tags": [],
    "cell_id": "00014-f406a07e-78fe-4aa2-9c8a-d61fd9dce705",
    "deepnote_cell_type": "code"
   },
   "outputs": [],
   "execution_count": null
  },
  {
   "cell_type": "code",
   "source": "",
   "metadata": {
    "tags": [],
    "cell_id": "00012-f2ab2bfb-5c22-43df-899b-df084956d0ac",
    "deepnote_cell_type": "code"
   },
   "outputs": [],
   "execution_count": null
  },
  {
   "cell_type": "markdown",
   "source": "<a style='text-decoration:none;line-height:16px;display:flex;color:#5B5B62;padding:10px;justify-content:end;' href='https://deepnote.com?utm_source=created-in-deepnote-cell&projectId=768076c7-65ce-42d5-b86d-074f9f75d785' target=\"_blank\">\n<img alt='Created in deepnote.com' style='display:inline;max-height:16px;margin:0px;margin-right:7.5px;' src='data:image/svg+xml;base64,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' > </img>\nCreated in <span style='font-weight:600;margin-left:4px;'>Deepnote</span></a>",
   "metadata": {
    "tags": [],
    "created_in_deepnote_cell": true,
    "deepnote_cell_type": "markdown"
   }
  }
 ],
 "nbformat": 4,
 "nbformat_minor": 2,
 "metadata": {
  "orig_nbformat": 2,
  "deepnote": {
   "is_reactive": false
  },
  "deepnote_notebook_id": "fe81f494-2f11-4b2a-95a0-2488a9e4b083",
  "deepnote_execution_queue": []
 }
}